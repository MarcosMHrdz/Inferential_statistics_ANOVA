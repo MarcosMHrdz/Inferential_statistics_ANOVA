{
 "cells": [
  {
   "cell_type": "markdown",
   "metadata": {},
   "source": [
    "Laboratorio | Estadística inferencial - ANOVA\n",
    "Nota: El siguiente laboratorio está dividido en 2 secciones que representan las actividades 3 y 4.\n",
    "\n",
    "Parte 1\n",
    "En esta actividad veremos otro ejemplo. Tu tarea consiste en comprender el problema y escribir todos los pasos para establecer el ANOVA. Después de la próxima lección, te pediremos que resuelvas este problema utilizando Python. Estos son los pasos en los que tendrás que trabajar: - Hipótesis nula - Hipótesis alternativa - Nivel de significación - Estadística de prueba - Valor P - Tabla F\n",
    "\n",
    "Contexto\n",
    "Supongamos que trabajas como analista en una planta de fabricación de chips microprocesadores. Se le ha encomendado la tarea de analizar un proceso de grabado por plasma con respecto al cambio de potencia (en vatios) del haz de plasma. Los datos fueron recolectados y proporcionados a usted para realizar un análisis estadístico y comprobar si el cambio de la potencia del haz de plasma tiene algún efecto sobre la tasa de grabado por la máquina. Usted conducirá el ANOVA y verificará si hay alguna diferencia en la tasa media de grabado para diferentes niveles de potencia. Puede encontrar los datos anova_lab_data.xlsx en la carpeta files_for_lab.\n",
    "\n",
    "Plantee la hipótesis nula\n",
    "Enuncie la hipótesis alternativa\n",
    "Cuál es el nivel de significación\n",
    "Cuáles son los grados de libertad del modelo, los términos de error y el DoF total"
   ]
  },
  {
   "cell_type": "code",
   "execution_count": 4,
   "metadata": {},
   "outputs": [],
   "source": [
    "import pandas as pd\n",
    "df = pd.read_excel(r\"C:\\Users\\anasa\\Desktop\\Ana\\IRONHACK\\Labs\\Python ll\\Lab  Inferential statistics - ANOVA\\anova_lab_data.xlsx\")"
   ]
  },
  {
   "cell_type": "code",
   "execution_count": 5,
   "metadata": {},
   "outputs": [
    {
     "data": {
      "text/html": [
       "<div>\n",
       "<style scoped>\n",
       "    .dataframe tbody tr th:only-of-type {\n",
       "        vertical-align: middle;\n",
       "    }\n",
       "\n",
       "    .dataframe tbody tr th {\n",
       "        vertical-align: top;\n",
       "    }\n",
       "\n",
       "    .dataframe thead th {\n",
       "        text-align: right;\n",
       "    }\n",
       "</style>\n",
       "<table border=\"1\" class=\"dataframe\">\n",
       "  <thead>\n",
       "    <tr style=\"text-align: right;\">\n",
       "      <th></th>\n",
       "      <th>Power</th>\n",
       "      <th>Etching Rate</th>\n",
       "    </tr>\n",
       "  </thead>\n",
       "  <tbody>\n",
       "    <tr>\n",
       "      <th>0</th>\n",
       "      <td>160 W</td>\n",
       "      <td>5.43</td>\n",
       "    </tr>\n",
       "    <tr>\n",
       "      <th>1</th>\n",
       "      <td>180 W</td>\n",
       "      <td>6.24</td>\n",
       "    </tr>\n",
       "    <tr>\n",
       "      <th>2</th>\n",
       "      <td>200 W</td>\n",
       "      <td>8.79</td>\n",
       "    </tr>\n",
       "    <tr>\n",
       "      <th>3</th>\n",
       "      <td>160 W</td>\n",
       "      <td>5.71</td>\n",
       "    </tr>\n",
       "    <tr>\n",
       "      <th>4</th>\n",
       "      <td>180 W</td>\n",
       "      <td>6.71</td>\n",
       "    </tr>\n",
       "  </tbody>\n",
       "</table>\n",
       "</div>"
      ],
      "text/plain": [
       "  Power   Etching Rate\n",
       "0  160 W          5.43\n",
       "1  180 W          6.24\n",
       "2  200 W          8.79\n",
       "3  160 W          5.71\n",
       "4  180 W          6.71"
      ]
     },
     "execution_count": 5,
     "metadata": {},
     "output_type": "execute_result"
    }
   ],
   "source": [
    "df.head()"
   ]
  },
  {
   "cell_type": "code",
   "execution_count": 11,
   "metadata": {},
   "outputs": [],
   "source": [
    "df=df.rename(columns={\"Power \": \"Power\"})"
   ]
  },
  {
   "cell_type": "code",
   "execution_count": 12,
   "metadata": {},
   "outputs": [],
   "source": [
    "df_160 = df[df[\"Power\"] == \"160 W\" ]\n",
    "df_160 = df[df[\"Power\"] == \"160 W\" ]"
   ]
  },
  {
   "cell_type": "code",
   "execution_count": 19,
   "metadata": {},
   "outputs": [],
   "source": [
    "df_agregado = df.groupby(\"Power\")[\"Etching Rate\"].agg(list).reset_index()"
   ]
  },
  {
   "cell_type": "code",
   "execution_count": 20,
   "metadata": {},
   "outputs": [
    {
     "data": {
      "text/html": [
       "<div>\n",
       "<style scoped>\n",
       "    .dataframe tbody tr th:only-of-type {\n",
       "        vertical-align: middle;\n",
       "    }\n",
       "\n",
       "    .dataframe tbody tr th {\n",
       "        vertical-align: top;\n",
       "    }\n",
       "\n",
       "    .dataframe thead th {\n",
       "        text-align: right;\n",
       "    }\n",
       "</style>\n",
       "<table border=\"1\" class=\"dataframe\">\n",
       "  <thead>\n",
       "    <tr style=\"text-align: right;\">\n",
       "      <th></th>\n",
       "      <th>Power</th>\n",
       "      <th>Etching Rate</th>\n",
       "    </tr>\n",
       "  </thead>\n",
       "  <tbody>\n",
       "    <tr>\n",
       "      <th>0</th>\n",
       "      <td>160 W</td>\n",
       "      <td>[5.43, 5.71, 6.22, 6.01, 5.59]</td>\n",
       "    </tr>\n",
       "    <tr>\n",
       "      <th>1</th>\n",
       "      <td>180 W</td>\n",
       "      <td>[6.24, 6.71, 5.98, 5.66, 6.6]</td>\n",
       "    </tr>\n",
       "    <tr>\n",
       "      <th>2</th>\n",
       "      <td>200 W</td>\n",
       "      <td>[8.79, 9.2, 7.9, 8.15, 7.55]</td>\n",
       "    </tr>\n",
       "  </tbody>\n",
       "</table>\n",
       "</div>"
      ],
      "text/plain": [
       "   Power                    Etching Rate\n",
       "0  160 W  [5.43, 5.71, 6.22, 6.01, 5.59]\n",
       "1  180 W   [6.24, 6.71, 5.98, 5.66, 6.6]\n",
       "2  200 W    [8.79, 9.2, 7.9, 8.15, 7.55]"
      ]
     },
     "execution_count": 20,
     "metadata": {},
     "output_type": "execute_result"
    }
   ],
   "source": [
    "df_agregado"
   ]
  },
  {
   "cell_type": "markdown",
   "metadata": {},
   "source": [
    "Hipótesis nula: las medidas de los grupos por potencia son iguales.\n",
    "Hipótesis alternativa: al menos una de las medidas de los grupos es diferente.\n",
    "¿Cuál es el nivel de significación:(𝛼) es la probabilidad de cometer un error de tipo I? \n",
    "Cuáles son los grados de libertad del modelo, los términos de error y el DoF total\n",
    "DOF modelo= k-1 = 3-1 (k nº de grupos).\n",
    "términos de error: "
   ]
  },
  {
   "cell_type": "code",
   "execution_count": 23,
   "metadata": {},
   "outputs": [
    {
     "data": {
      "text/plain": [
       "{'160 W': {'media': 5.792, 'n': 5},\n",
       " '180 W': {'media': 6.2379999999999995, 'n': 5},\n",
       " '200 W': {'media': 8.318, 'n': 5}}"
      ]
     },
     "execution_count": 23,
     "metadata": {},
     "output_type": "execute_result"
    }
   ],
   "source": [
    "total_sum = 0\n",
    "total_len = 0\n",
    "medias={}\n",
    "for index, row in df_agregado.iterrows():\n",
    "    medias[row[\"Power\"]] = {\"media\" : sum(row[\"Etching Rate\"])/len(row[\"Etching Rate\"]), \"n\": len(row[\"Etching Rate\"])}\n",
    "    total_sum += sum(row[\"Etching Rate\"])\n",
    "    total_len += len(row[\"Etching Rate\"])\n",
    "media_gral = total_sum/total_len\n",
    "medias"
   ]
  },
  {
   "cell_type": "code",
   "execution_count": 29,
   "metadata": {},
   "outputs": [],
   "source": [
    "sst = 0.0\n",
    "ssb = 0.0\n",
    "ssw = 0.0\n",
    "for index, row in df_agregado.iterrows():\n",
    "    for medicion in row[\"Etching Rate\"]:\n",
    "        sst += (float(medicion)-media_gral)**2\n",
    "        ssw += (float(medicion) - medias[row[\"Power\"]][\"media\"])**2\n",
    "        \n",
    "for k in medias.keys():\n",
    "    ssb += medias[k][\"n\"]*(medias[k][\"media\"]- media_gral)**2"
   ]
  },
  {
   "cell_type": "code",
   "execution_count": 31,
   "metadata": {},
   "outputs": [],
   "source": [
    "k=3"
   ]
  },
  {
   "cell_type": "code",
   "execution_count": 33,
   "metadata": {},
   "outputs": [
    {
     "data": {
      "text/plain": [
       "36.87895470100502"
      ]
     },
     "execution_count": 33,
     "metadata": {},
     "output_type": "execute_result"
    }
   ],
   "source": [
    "F = (ssb/(k-1))/(ssw/(total_len-k))\n",
    "F"
   ]
  },
  {
   "cell_type": "markdown",
   "metadata": {},
   "source": [
    "F teorico 3.869 como F teorico(3.89, que viene de la tabla de Fisher) < F calculado (36.8) rechazo la hipotesis nula"
   ]
  },
  {
   "cell_type": "code",
   "execution_count": 34,
   "metadata": {},
   "outputs": [],
   "source": [
    "import scipy.stats as stats"
   ]
  },
  {
   "cell_type": "code",
   "execution_count": 35,
   "metadata": {},
   "outputs": [],
   "source": [
    "F, P= stats.f_oneway(df_agregado.iloc[0][\"Etching Rate\"], df_agregado.iloc[1][\"Etching Rate\"], df_agregado.iloc[2][\"Etching Rate\"])"
   ]
  },
  {
   "cell_type": "code",
   "execution_count": 36,
   "metadata": {},
   "outputs": [
    {
     "data": {
      "text/plain": [
       "36.87895470100505"
      ]
     },
     "execution_count": 36,
     "metadata": {},
     "output_type": "execute_result"
    }
   ],
   "source": [
    "F"
   ]
  },
  {
   "cell_type": "code",
   "execution_count": 37,
   "metadata": {},
   "outputs": [
    {
     "data": {
      "text/plain": [
       "7.506584272358903e-06"
      ]
     },
     "execution_count": 37,
     "metadata": {},
     "output_type": "execute_result"
    }
   ],
   "source": [
    "P"
   ]
  },
  {
   "cell_type": "markdown",
   "metadata": {},
   "source": [
    "Como P es menor que el nivel de significacia rechazamos H0"
   ]
  }
 ],
 "metadata": {
  "kernelspec": {
   "display_name": "Python 3",
   "language": "python",
   "name": "python3"
  },
  "language_info": {
   "codemirror_mode": {
    "name": "ipython",
    "version": 3
   },
   "file_extension": ".py",
   "mimetype": "text/x-python",
   "name": "python",
   "nbconvert_exporter": "python",
   "pygments_lexer": "ipython3",
   "version": "3.11.1"
  }
 },
 "nbformat": 4,
 "nbformat_minor": 2
}
